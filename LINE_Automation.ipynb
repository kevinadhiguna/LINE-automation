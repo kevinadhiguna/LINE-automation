{
  "nbformat": 4,
  "nbformat_minor": 0,
  "metadata": {
    "colab": {
      "name": "LINE Automation.ipynb",
      "provenance": [],
      "collapsed_sections": []
    },
    "kernelspec": {
      "display_name": "Python 3",
      "language": "python",
      "name": "python3"
    },
    "language_info": {
      "codemirror_mode": {
        "name": "ipython",
        "version": 3
      },
      "file_extension": ".py",
      "mimetype": "text/x-python",
      "name": "python",
      "nbconvert_exporter": "python",
      "pygments_lexer": "ipython3",
      "version": "3.7.3"
    }
  },
  "cells": [
    {
      "cell_type": "markdown",
      "metadata": {
        "id": "iEQaCQc5ELns"
      },
      "source": [
        "### Install 'requests' library to send an HTTP request "
      ]
    },
    {
      "cell_type": "code",
      "metadata": {
        "id": "4nrGEVemIKiQ"
      },
      "source": [
        "!pip install requests"
      ],
      "execution_count": null,
      "outputs": []
    },
    {
      "cell_type": "markdown",
      "metadata": {
        "id": "uJOOtSsWEHqe"
      },
      "source": [
        "### # Import the 'requests' library"
      ]
    },
    {
      "cell_type": "code",
      "metadata": {
        "id": "DFaHwuVnz9hY"
      },
      "source": [
        "import requests"
      ],
      "execution_count": null,
      "outputs": []
    },
    {
      "cell_type": "markdown",
      "metadata": {
        "id": "DBeh0wttD-J9"
      },
      "source": [
        "### Settings\n",
        "- LINE Notify API Token\n",
        "- The API URL"
      ]
    },
    {
      "cell_type": "code",
      "metadata": {
        "id": "3renb3-Hz9hY"
      },
      "source": [
        "# Place your LINE Notify token here\n",
        "token = 'YOUR_LINE_Notify_TOKEN'\n",
        "\n",
        "# The API url of LINE Notify\n",
        "api_url = 'https://notify-api.line.me/api/notify'"
      ],
      "execution_count": null,
      "outputs": []
    },
    {
      "cell_type": "markdown",
      "metadata": {
        "id": "-Q7w3yQ8Dz_h"
      },
      "source": [
        "## Send a message"
      ]
    },
    {
      "cell_type": "code",
      "metadata": {
        "id": "eq6phqKwIVsQ"
      },
      "source": [
        "# Place the message you want to send\n",
        "message = 'Hello, how are you doing ? Have a nice day :)'\n",
        "\n",
        "# Convert Token to dictionary\n",
        "token_dict = { 'Authorization': 'Bearer' + ' ' + token } \n",
        "\n",
        "# Convert message to dictionary\n",
        "msg_dict = { 'message': message }\n",
        "\n",
        "# Print your token (Optional)\n",
        "print(token_dict)\n",
        "\n",
        "# Print your message (Optional)\n",
        "print(msg_dict)\n",
        "\n",
        "# Send a message\n",
        "requests.post(\n",
        "    api_url,            # <- Send to the API url : 'https://notify-api.line.me/api/notify'\n",
        "    headers=token_dict, # <- Set the LINE Notify token to the headers (for authentication)\n",
        "    data=msg_dict       # <- Send your message through a LINE Notify account\n",
        ")\n",
        "\n",
        "# HTTP Response Status -> 200: success, 400: Bad request, 401: Invalid access token"
      ],
      "execution_count": null,
      "outputs": []
    },
    {
      "cell_type": "markdown",
      "metadata": {
        "id": "Cb6FbnfQ7wfZ"
      },
      "source": [
        "## Send an image and a message"
      ]
    },
    {
      "cell_type": "code",
      "metadata": {
        "id": "h12-ixrfIZuW"
      },
      "source": [
        "# Place an image filename (currently URL does not work, it must be placed locally)\n",
        "image = './my-picture.png'\n",
        "\n",
        "# Open the image in binary format for reading\n",
        "binary = open(image, mode='rb')\n",
        "\n",
        "# Place the message you want to send\n",
        "message = 'This is a message sent with an image below !'\n",
        "\n",
        "# Convert message to dictionary\n",
        "msg_dict = { 'message': message }\n",
        "\n",
        "# Convert your image file to dictionary\n",
        "img_dict = { 'imageFile': binary }\n",
        "\n",
        "# Send the image and the message \n",
        "requests.post(\n",
        "    api_url,            # <- Send to the API url : 'https://notify-api.line.me/api/notify'\n",
        "    headers=token_dict, # <- Set the LINE Notify token to the headers (for authentication)\n",
        "    data=msg_dict,      # <- Send your message through a LINE Notify account\n",
        "    files=img_dict    # <- Send your image through a LINE Notify account\n",
        ")\n",
        "\n",
        "# HTTP Response Status -> 200: success, 400: Bad request, 401: Invalid access token"
      ],
      "execution_count": null,
      "outputs": []
    },
    {
      "cell_type": "markdown",
      "metadata": {
        "id": "TXexFlxFF4vu"
      },
      "source": [
        "## Reference :\n",
        "- [LINE Notify API Docs](https://notify-bot.line.me/doc/en/)"
      ]
    }
  ]
}